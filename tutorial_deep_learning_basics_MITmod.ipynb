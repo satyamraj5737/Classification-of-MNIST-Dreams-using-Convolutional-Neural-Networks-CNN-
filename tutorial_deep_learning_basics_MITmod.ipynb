{
 "cells": [
  {
   "cell_type": "markdown",
   "metadata": {
    "id": "DRDY0S9L-n6D"
   },
   "source": [
    "**Modified version of the MIT example for MNIST CNN**\n",
    "\n",
    "Mostly adjusted some errors with tensorflow updates.\n",
    "\n",
    "Ricardo Dalagnol (ricds@hotmail.com)<BR><BR>"
   ]
  },
  {
   "cell_type": "markdown",
   "metadata": {
    "id": "fesFRiKt7EGj"
   },
   "source": [
    "![MIT Deep Learning](https://deeplearning.mit.edu/files/images/github/mit_deep_learning.png)"
   ]
  },
  {
   "cell_type": "markdown",
   "metadata": {
    "id": "-hipbd137EGn"
   },
   "source": [
    "<table align=\"center\">\n",
    "  <td align=\"center\"><a target=\"_blank\" href=\"https://deeplearning.mit.edu\">\n",
    "        <img src=\"https://deeplearning.mit.edu/files/images/github/icon_mit.png\" style=\"padding-bottom:5px;\" />\n",
    "      Visit MIT Deep Learning</a></td>\n",
    "  <td align=\"center\"><a target=\"_blank\" href=\"http://colab.research.google.com/github/lexfridman/mit-deep-learning/blob/master/tutorial_deep_learning_basics/deep_learning_basics.ipynb\">\n",
    "        <img src=\"https://deeplearning.mit.edu/files/images/github/icon_google_colab.png\" style=\"padding-bottom:5px;\" />Run in Google Colab</a></td>\n",
    "  <td align=\"center\"><a target=\"_blank\" href=\"https://github.com/lexfridman/mit-deep-learning/blob/master/tutorial_deep_learning_basics/deep_learning_basics.ipynb\">\n",
    "        <img src=\"https://deeplearning.mit.edu/files/images/github/icon_github.png\" style=\"padding-bottom:5px;\"  />View Source on GitHub</a></td>\n",
    "  <td align=\"center\"><a target=\"_blank\" align=\"center\" href=\"https://www.youtube.com/watch?v=O5xeyoRL95U&list=PLrAXtmErZgOeiKm4sgNOknGvNjby9efdf\">\n",
    "        <img src=\"https://deeplearning.mit.edu/files/images/github/icon_youtube.png\" style=\"padding-bottom:5px;\" />Watch YouTube Videos</a></td>\n",
    "<!--   <td><a target=\"_blank\" href=\"link\">\n",
    "        <img src=\"image\" />text</a></td> -->\n",
    "</table>"
   ]
  },
  {
   "cell_type": "markdown",
   "metadata": {
    "id": "2IkBvpMo7EGo"
   },
   "source": [
    "# Deep Learning Basics\n",
    "\n",
    "This tutorial accompanies the [lecture on Deep Learning Basics](https://www.youtube.com/watch?list=PLrAXtmErZgOeiKm4sgNOknGvNjby9efdf&v=O5xeyoRL95U) given as part of [MIT Deep Learning](https://deeplearning.mit.edu). Acknowledgement to amazing people involved is provided throughout the tutorial and at the end. You can watch the video on YouTube:\n",
    "\n",
    "[![Deep Learning Basics](https://i.imgur.com/FfQVV8q.png)](https://www.youtube.com/watch?list=PLrAXtmErZgOeiKm4sgNOknGvNjby9efdf&v=O5xeyoRL95U)\n",
    "\n",
    "In this tutorial, we mention seven important types/concepts/approaches in deep learning, introducing the first 2 and providing pointers to tutorials on the others. Here is a visual representation of the seven:\n",
    "\n",
    "![Deep learning concepts](https://i.imgur.com/EAl47rp.png)\n",
    "\n",
    "At a high-level, neural networks are either encoders, decoders, or a combination of both. Encoders find patterns in raw data to form compact, useful representations. Decoders generate new data or high-resolution useful infomation from those representations. As the lecture describes, deep learning discovers ways to **represent** the world so that we can reason about it. The rest is clever methods that help use deal effectively with visual information, language, sound (#1-6) and even act in a world based on this information and occasional rewards (#7).\n",
    "\n",
    "1. **Feed Forward Neural Networks (FFNNs)** - classification and regression based on features. See [Part 1](#Part-1:-Boston-Housing-Price-Prediction-with-Feed-Forward-Neural-Networks) of this tutorial for an example.\n",
    "2. **Convolutional Neural Networks (CNNs)** - image classification, object detection, video action recognition, etc. See [Part 2](#Part-2:-Classification-of-MNIST-Dreams-with-Convolution-Neural-Networks) of this tutorial for an example.\n",
    "3. **Recurrent Neural Networks (RNNs)** - language modeling, speech recognition/generation, etc. See [this TF tutorial on text generation](https://www.tensorflow.org/tutorials/sequences/text_generation) for an example.\n",
    "4. **Encoder Decoder Architectures** - semantic segmentation, machine translation, etc. See [our tutorial on semantic segmentation](https://github.com/lexfridman/mit-deep-learning/blob/master/tutorial_driving_scene_segmentation/tutorial_driving_scene_segmentation.ipynb) for an example.\n",
    "5. **Autoencoder** - unsupervised embeddings, denoising, etc.\n",
    "6. **Generative Adversarial Networks (GANs)** - unsupervised generation of realistic images, etc. See [this TF tutorial on DCGANs](https://github.com/tensorflow/tensorflow/blob/r1.11/tensorflow/contrib/eager/python/examples/generative_examples/dcgan.ipynb) for an example.\n",
    "7. **Deep Reinforcement Learning** - game playing, robotics in simulation, self-play, neural arhitecture search, etc. We'll be releasing notebooks on this soon and will link them here.\n",
    "\n",
    "There are selective omissions and simplifications throughout these tutorials, hopefully without losing the essence of the underlying ideas. See Einstein quote..."
   ]
  },
  {
   "cell_type": "markdown",
   "metadata": {
    "id": "37majzDk7EGp"
   },
   "source": [
    "## Part 0: Prerequisites:\n",
    "\n",
    "We recommend that you run this this notebook in the cloud on Google Colab (see link with icon at the top) if you're not already doing so. It's the simplest way to get started. You can also [install TensorFlow locally](https://www.tensorflow.org/install/). But, again, simple is best (with caveats):\n",
    "\n",
    "![Einstein](https://i.imgur.com/vfPDHGN.png)\n",
    "\n",
    "[tf.keras](https://www.tensorflow.org/guide/keras) is the simplest way to build and train neural network models in TensorFlow. So, that's what we'll stick with in this tutorial, unless the models neccessitate a lower-level API.\n",
    "\n",
    "Note that there's [tf.keras](https://www.tensorflow.org/guide/keras) (comes with TensorFlow) and there's [Keras](https://keras.io/) (standalone). You should be using [tf.keras](https://www.tensorflow.org/guide/keras) because (1) it comes with TensorFlow so you don't need to install anything extra and (2) it comes with powerful TensorFlow-specific features."
   ]
  },
  {
   "cell_type": "code",
   "execution_count": 1,
   "metadata": {
    "colab": {
     "base_uri": "https://localhost:8080/"
    },
    "id": "wYrinZKs7EGq",
    "outputId": "fad7d6aa-110b-4492-86bd-b104c0cb6332",
    "tags": []
   },
   "outputs": [
    {
     "ename": "ModuleNotFoundError",
     "evalue": "No module named 'tensorflow'",
     "output_type": "error",
     "traceback": [
      "\u001b[1;31m---------------------------------------------------------------------------\u001b[0m",
      "\u001b[1;31mModuleNotFoundError\u001b[0m                       Traceback (most recent call last)",
      "Cell \u001b[1;32mIn[1], line 2\u001b[0m\n\u001b[0;32m      1\u001b[0m \u001b[38;5;66;03m# TensorFlow and tf.keras\u001b[39;00m\n\u001b[1;32m----> 2\u001b[0m \u001b[38;5;28;01mimport\u001b[39;00m \u001b[38;5;21;01mtensorflow\u001b[39;00m \u001b[38;5;28;01mas\u001b[39;00m \u001b[38;5;21;01mtf\u001b[39;00m\n\u001b[0;32m      3\u001b[0m \u001b[38;5;28;01mfrom\u001b[39;00m \u001b[38;5;21;01mtensorflow\u001b[39;00m \u001b[38;5;28;01mimport\u001b[39;00m keras\n\u001b[0;32m      4\u001b[0m \u001b[38;5;28;01mfrom\u001b[39;00m \u001b[38;5;21;01mtensorflow\u001b[39;00m\u001b[38;5;21;01m.\u001b[39;00m\u001b[38;5;21;01mkeras\u001b[39;00m\u001b[38;5;21;01m.\u001b[39;00m\u001b[38;5;21;01mlayers\u001b[39;00m \u001b[38;5;28;01mimport\u001b[39;00m Conv2D, MaxPooling2D, Dropout, Flatten, Dense\n",
      "\u001b[1;31mModuleNotFoundError\u001b[0m: No module named 'tensorflow'"
     ]
    }
   ],
   "source": [
    "# TensorFlow and tf.keras\n",
    "import tensorflow as tf\n",
    "from tensorflow import keras\n",
    "from tensorflow.keras.layers import Conv2D, MaxPooling2D, Dropout, Flatten, Dense\n",
    "\n",
    "# Commonly used modules\n",
    "import numpy as np\n",
    "import os\n",
    "import sys\n",
    "\n",
    "# Images, plots, display, and visualization\n",
    "import matplotlib.pyplot as plt\n",
    "import pandas as pd\n",
    "import seaborn as sns\n",
    "import cv2\n",
    "import IPython\n",
    "from six.moves import urllib\n",
    "\n",
    "print(tf.__version__)"
   ]
  },
  {
   "cell_type": "markdown",
   "metadata": {
    "id": "19KOxPwT7EGs"
   },
   "source": [
    "## Part 1: Boston Housing Price Prediction with Feed Forward Neural Networks\n",
    "\n",
    "Let's start with using a fully-connected neural network to do predict housing prices. The following image highlights the difference between regression and classification (see part 2). Given an observation as input, **regression** outputs a continuous value (e.g., exact temperature) and classificaiton outputs a class/category that the observation belongs to.\n",
    "\n",
    "<img src=\"https://i.imgur.com/vvSoAzg.jpg\" alt=\"classification_regression\" width=\"400\"/>\n",
    "\n",
    "For the Boston housing dataset, we get 506 rows of data, with 13 features in each. Our task is to build a regression model that takes these 13 features as input and output a single value prediction of the \"median value of owner-occupied homes (in $1000).\"\n",
    "\n",
    "Now, we load the dataset. Loading the dataset returns four NumPy arrays:\n",
    "\n",
    "* The `train_images` and `train_labels` arrays are the *training set*—the data the model uses to learn.\n",
    "* The model is tested against the *test set*, the `test_images`, and `test_labels` arrays."
   ]
  },
  {
   "cell_type": "code",
   "execution_count": 2,
   "metadata": {
    "colab": {
     "base_uri": "https://localhost:8080/"
    },
    "id": "S-4NsuBS7EGs",
    "outputId": "504f86fe-2f3a-455b-e95c-b15a47d04cb0"
   },
   "outputs": [
    {
     "name": "stdout",
     "output_type": "stream",
     "text": [
      "Downloading data from https://storage.googleapis.com/tensorflow/tf-keras-datasets/boston_housing.npz\n",
      "57344/57026 [==============================] - 0s 0us/step\n",
      "65536/57026 [==================================] - 0s 0us/step\n"
     ]
    }
   ],
   "source": [
    "(train_features, train_labels), (test_features, test_labels) = keras.datasets.boston_housing.load_data()\n",
    "\n",
    "# get per-feature statistics (mean, standard deviation) from the training set to normalize by\n",
    "train_mean = np.mean(train_features, axis=0)\n",
    "train_std = np.std(train_features, axis=0)\n",
    "train_features = (train_features - train_mean) / train_std"
   ]
  },
  {
   "cell_type": "markdown",
   "metadata": {
    "id": "7Zx0pYoh7EGt"
   },
   "source": [
    "### Build the model\n",
    "\n",
    "Building the neural network requires configuring the layers of the model, then compiling the model. First we stack a few layers together using `keras.Sequential`. Next we configure the loss function, optimizer, and metrics to monitor. These are added during the model's compile step:\n",
    "\n",
    "* *Loss function* - measures how accurate the model is during training, we want to minimize this with the optimizer.\n",
    "* *Optimizer* - how the model is updated based on the data it sees and its loss function.\n",
    "* *Metrics* - used to monitor the training and testing steps.\n",
    "\n",
    "Let's build a network with 1 hidden layer of 20 neurons, and use mean squared error (MSE) as the loss function (most common one for regression problems):"
   ]
  },
  {
   "cell_type": "code",
   "execution_count": null,
   "metadata": {
    "id": "d3BV8ZZc7EGu"
   },
   "outputs": [],
   "source": [
    "def build_model():\n",
    "    model = keras.Sequential([\n",
    "        Dense(20, activation=tf.nn.relu, input_shape=[len(train_features[0])]),\n",
    "        Dense(1)\n",
    "    ])\n",
    "\n",
    "    model.compile(optimizer=tf.train.AdamOptimizer(), \n",
    "                  loss='mse',\n",
    "                  metrics=['mae', 'mse'])\n",
    "    return model"
   ]
  },
  {
   "cell_type": "markdown",
   "metadata": {
    "id": "67_2OKpO7EGu"
   },
   "source": [
    "### Train the model\n",
    "\n",
    "Training the neural network model requires the following steps:\n",
    "\n",
    "1. Feed the training data to the model—in this example, the `train_features` and `train_labels` arrays.\n",
    "2. The model learns to associate features and labels.\n",
    "3. We ask the model to make predictions about a test set—in this example, the `test_features` array. We verify that the predictions match the labels from the `test_labels` array. \n",
    "\n",
    "To start training,  call the `model.fit` method—the model is \"fit\" to the training data:"
   ]
  },
  {
   "cell_type": "code",
   "execution_count": null,
   "metadata": {
    "id": "tTAf-dSI7EGv",
    "outputId": "f64f27f3-8601-493b-e73c-1dbc360c0086"
   },
   "outputs": [
    {
     "name": "stdout",
     "output_type": "stream",
     "text": [
      "\n",
      "....................................................................................................\n",
      "....................................................................................................\n",
      "....................................................................................................\n",
      "....................................................................................................\n",
      "....................................................................................................\n",
      "....................................................................................................\n",
      "....................................................................................................\n",
      ".............................................................................................\n",
      "Final Root Mean Square Error on validation set: 2.359\n"
     ]
    }
   ],
   "source": [
    "# this helps makes our output less verbose but still shows progress\n",
    "class PrintDot(keras.callbacks.Callback):\n",
    "    def on_epoch_end(self, epoch, logs):\n",
    "        if epoch % 100 == 0: print('')\n",
    "        print('.', end='')\n",
    "\n",
    "model = build_model()\n",
    "\n",
    "early_stop = keras.callbacks.EarlyStopping(monitor='val_loss', patience=50)\n",
    "history = model.fit(train_features, train_labels, epochs=1000, verbose=0, validation_split = 0.1,\n",
    "                    callbacks=[early_stop, PrintDot()])\n",
    "\n",
    "hist = pd.DataFrame(history.history)\n",
    "hist['epoch'] = history.epoch\n",
    "\n",
    "# show RMSE measure to compare to Kaggle leaderboard on https://www.kaggle.com/c/boston-housing/leaderboard\n",
    "rmse_final = np.sqrt(float(hist['val_mean_squared_error'].tail(1)))\n",
    "print()\n",
    "print('Final Root Mean Square Error on validation set: {}'.format(round(rmse_final, 3)))"
   ]
  },
  {
   "cell_type": "markdown",
   "metadata": {
    "id": "oyvbwdAL7EGv"
   },
   "source": [
    "Now, let's plot the loss function measure on the training and validation sets. The validation set is used to prevent overfitting ([learn more about it here](https://www.tensorflow.org/tutorials/keras/overfit_and_underfit)). However, because our network is small, the training convergence without noticeably overfitting the data as the plot shows."
   ]
  },
  {
   "cell_type": "code",
   "execution_count": null,
   "metadata": {
    "id": "WZokyMPS7EGw",
    "outputId": "9e52eeec-6271-4b8e-cfb4-1c49f9dbf640",
    "scrolled": true
   },
   "outputs": [
    {
     "data": {
      "image/png": "[encoded data removed]",
      "text/plain": [
       "<Figure size 432x288 with 1 Axes>"
      ]
     },
     "metadata": {
      "needs_background": "light"
     },
     "output_type": "display_data"
    }
   ],
   "source": [
    "def plot_history():\n",
    "    plt.figure()\n",
    "    plt.xlabel('Epoch')\n",
    "    plt.ylabel('Mean Square Error [Thousand Dollars$^2$]')\n",
    "    plt.plot(hist['epoch'], hist['mean_squared_error'], label='Train Error')\n",
    "    plt.plot(hist['epoch'], hist['val_mean_squared_error'], label = 'Val Error')\n",
    "    plt.legend()\n",
    "    plt.ylim([0,50])\n",
    "\n",
    "plot_history()"
   ]
  },
  {
   "cell_type": "markdown",
   "metadata": {
    "id": "BPTtFuZR7EGw"
   },
   "source": [
    "Next, compare how the model performs on the test dataset:"
   ]
  },
  {
   "cell_type": "code",
   "execution_count": null,
   "metadata": {
    "id": "40UqJDEe7EGw",
    "outputId": "18e7f8e1-4cb2-4975-d8eb-b49c53dd1842"
   },
   "outputs": [
    {
     "name": "stdout",
     "output_type": "stream",
     "text": [
      "102/102 [==============================] - 0s 44us/step\n",
      "Root Mean Square Error on test set: 4.244\n"
     ]
    }
   ],
   "source": [
    "test_features_norm = (test_features - train_mean) / train_std\n",
    "mse, _, _ = model.evaluate(test_features_norm, test_labels)\n",
    "rmse = np.sqrt(mse)\n",
    "print('Root Mean Square Error on test set: {}'.format(round(rmse, 3)))"
   ]
  },
  {
   "cell_type": "markdown",
   "metadata": {
    "id": "OC7rRnf37EGx"
   },
   "source": [
    "Compare the RMSE measure you get to the [Kaggle leaderboard](https://www.kaggle.com/c/boston-housing/leaderboard). An RMSE of 2.651 puts us in 5th place."
   ]
  },
  {
   "cell_type": "markdown",
   "metadata": {
    "id": "kADo2smS7EGx"
   },
   "source": [
    "## Part 2: Classification of MNIST Dreams with Convolutional Neural Networks\n",
    "\n",
    "Next, let's build a convolutional neural network (CNN) classifier to classify images of handwritten digits in the MNIST dataset with a twist where we test our classifier on high-resolution hand-written digits from outside the dataset."
   ]
  },
  {
   "cell_type": "code",
   "execution_count": 2,
   "metadata": {
    "id": "PjZpDdWH7EGx"
   },
   "outputs": [],
   "source": [
    "# Set common constants\n",
    "this_repo_url = 'https://github.com/lexfridman/mit-deep-learning/raw/master/'\n",
    "this_tutorial_url = this_repo_url + 'tutorial_deep_learning_basics'"
   ]
  },
  {
   "cell_type": "markdown",
   "metadata": {
    "id": "BWeSgpAl7EGx"
   },
   "source": [
    "The MNIST dataset containss 70,000 grayscale images of handwritten digits at a resolution of 28 by 28 pixels. The task is to take one of these images as input and predict the most likely digit contained in the image (along with a relative confidence in this prediction):\n",
    "\n",
    "<img src=\"https://i.imgur.com/ITrm9x4.png\" width=\"500px\">\n",
    "\n",
    "Now, we load the dataset. The images are 28x28 NumPy arrays, with pixel values ranging between 0 and 255. The *labels* are an array of integers, ranging from 0 to 9."
   ]
  },
  {
   "cell_type": "code",
   "execution_count": 3,
   "metadata": {
    "colab": {
     "base_uri": "https://localhost:8080/"
    },
    "id": "EgrCyQE07EGy",
    "outputId": "9b4d3e32-cde2-4d18-8d8a-4a50aeae63ef"
   },
   "outputs": [
    {
     "name": "stdout",
     "output_type": "stream",
     "text": [
      "Downloading data from https://storage.googleapis.com/tensorflow/tf-keras-datasets/mnist.npz\n",
      "11493376/11490434 [==============================] - 0s 0us/step\n",
      "11501568/11490434 [==============================] - 0s 0us/step\n"
     ]
    }
   ],
   "source": [
    "(train_images, train_labels), (test_images, test_labels) = keras.datasets.mnist.load_data()\n",
    "\n",
    "# reshape images to specify that it's a single channel\n",
    "train_images = train_images.reshape(train_images.shape[0], 28, 28, 1)\n",
    "test_images = test_images.reshape(test_images.shape[0], 28, 28, 1)"
   ]
  },
  {
   "cell_type": "markdown",
   "metadata": {
    "id": "Zb9W9PuF7EGy"
   },
   "source": [
    "We scale these values to a range of 0 to 1 before feeding to the neural network model. For this, we divide the values by 255. It's important that the *training set* and the *testing set* are preprocessed in the same way:"
   ]
  },
  {
   "cell_type": "code",
   "execution_count": 4,
   "metadata": {
    "id": "zGtZtri77EGy"
   },
   "outputs": [],
   "source": [
    "def preprocess_images(imgs): # should work for both a single image and multiple images\n",
    "    sample_img = imgs if len(imgs.shape) == 2 else imgs[0]\n",
    "    assert sample_img.shape in [(28, 28, 1), (28, 28)], sample_img.shape # make sure images are 28x28 and single-channel (grayscale)\n",
    "    return imgs / 255.0\n",
    "\n",
    "train_images = preprocess_images(train_images)\n",
    "test_images = preprocess_images(test_images)"
   ]
  },
  {
   "cell_type": "markdown",
   "metadata": {
    "id": "nM0mrkW-7EGy"
   },
   "source": [
    "Display the first 5 images from the *training set* and display the class name below each image. Verify that the data is in the correct format and we're ready to build and train the network."
   ]
  },
  {
   "cell_type": "code",
   "execution_count": 5,
   "metadata": {
    "colab": {
     "base_uri": "https://localhost:8080/",
     "height": 141
    },
    "id": "WtwR4ELh7EGy",
    "outputId": "5d01904b-2791-4a15-8acc-5201aceb8512"
   },
   "outputs": [
    {
     "data": {
      "image/png": "[encoded data removed]",
      "text/plain": [
       "<Figure size 720x144 with 5 Axes>"
      ]
     },
     "metadata": {},
     "output_type": "display_data"
    }
   ],
   "source": [
    "plt.figure(figsize=(10,2))\n",
    "for i in range(5):\n",
    "    plt.subplot(1,5,i+1)\n",
    "    plt.xticks([])\n",
    "    plt.yticks([])\n",
    "    plt.grid(False)\n",
    "    plt.imshow(train_images[i].reshape(28, 28), cmap=plt.cm.binary)\n",
    "    plt.xlabel(train_labels[i])"
   ]
  },
  {
   "cell_type": "markdown",
   "metadata": {
    "id": "fhNjx9K47EGz"
   },
   "source": [
    "### Build the model\n",
    "\n",
    "Building the neural network requires configuring the layers of the model, then compiling the model. In many cases, this can be reduced to simply stacking together layers:"
   ]
  },
  {
   "cell_type": "code",
   "execution_count": 6,
   "metadata": {
    "id": "FfqphmPY7EGz"
   },
   "outputs": [],
   "source": [
    "model = keras.Sequential()\n",
    "# 32 convolution filters used each of size 3x3\n",
    "model.add(Conv2D(32, kernel_size=(3, 3), activation='relu', input_shape=(28, 28, 1)))\n",
    "# 64 convolution filters used each of size 3x3\n",
    "model.add(Conv2D(64, (3, 3), activation='relu'))\n",
    "# choose the best features via pooling\n",
    "model.add(MaxPooling2D(pool_size=(2, 2)))\n",
    "# randomly turn neurons on and off to improve convergence\n",
    "model.add(Dropout(0.25))\n",
    "# flatten since too many dimensions, we only want a classification output\n",
    "model.add(Flatten())\n",
    "# fully connected to get all relevant data\n",
    "model.add(Dense(128, activation='relu'))\n",
    "# one more dropout\n",
    "model.add(Dropout(0.5))\n",
    "# output a softmax to squash the matrix into output probabilities\n",
    "model.add(Dense(10, activation='softmax'))"
   ]
  },
  {
   "cell_type": "markdown",
   "metadata": {
    "id": "JQPlFRmn-Y_k"
   },
   "source": [
    "Look at the model summary"
   ]
  },
  {
   "cell_type": "code",
   "execution_count": 7,
   "metadata": {
    "colab": {
     "base_uri": "https://localhost:8080/"
    },
    "id": "n0bnUUQA-Xvf",
    "outputId": "fc34f466-8c42-43a7-ced9-518f1453aa0f"
   },
   "outputs": [
    {
     "name": "stdout",
     "output_type": "stream",
     "text": [
      "Model: \"sequential\"\n",
      "_________________________________________________________________\n",
      "Layer (type)                 Output Shape              Param #   \n",
      "=================================================================\n",
      "conv2d (Conv2D)              (None, 26, 26, 32)        320       \n",
      "_________________________________________________________________\n",
      "conv2d_1 (Conv2D)            (None, 24, 24, 64)        18496     \n",
      "_________________________________________________________________\n",
      "max_pooling2d (MaxPooling2D) (None, 12, 12, 64)        0         \n",
      "_________________________________________________________________\n",
      "dropout (Dropout)            (None, 12, 12, 64)        0         \n",
      "_________________________________________________________________\n",
      "flatten (Flatten)            (None, 9216)              0         \n",
      "_________________________________________________________________\n",
      "dense (Dense)                (None, 128)               1179776   \n",
      "_________________________________________________________________\n",
      "dropout_1 (Dropout)          (None, 128)               0         \n",
      "_________________________________________________________________\n",
      "dense_1 (Dense)              (None, 10)                1290      \n",
      "=================================================================\n",
      "Total params: 1,199,882\n",
      "Trainable params: 1,199,882\n",
      "Non-trainable params: 0\n",
      "_________________________________________________________________\n"
     ]
    }
   ],
   "source": [
    "# summary\n",
    "model.summary()"
   ]
  },
  {
   "cell_type": "markdown",
   "metadata": {
    "id": "pwg6C-fc7EGz"
   },
   "source": [
    "Before the model is ready for training, it needs a few more settings. These are added during the model's *compile* step:\n",
    "\n",
    "* *Loss function* - measures how accurate the model is during training, we want to minimize this with the optimizer.\n",
    "* *Optimizer* - how the model is updated based on the data it sees and its loss function.\n",
    "* *Metrics* - used to monitor the training and testing steps. \"accuracy\" is the fraction of images that are correctly classified."
   ]
  },
  {
   "cell_type": "code",
   "execution_count": 8,
   "metadata": {
    "id": "-ZKJ8Twu7EGz"
   },
   "outputs": [],
   "source": [
    "model.compile(optimizer=tf.optimizers.Adam(), \n",
    "              loss='sparse_categorical_crossentropy',\n",
    "              metrics=['accuracy'])"
   ]
  },
  {
   "cell_type": "markdown",
   "metadata": {
    "id": "3at-_pBW7EG0"
   },
   "source": [
    "### Train the model\n",
    "\n",
    "Training the neural network model requires the following steps:\n",
    "\n",
    "1. Feed the training data to the model—in this example, the `train_images` and `train_labels` arrays.\n",
    "2. The model learns to associate images and labels.\n",
    "3. We ask the model to make predictions about a test set—in this example, the `test_images` array. We verify that the predictions match the labels from the `test_labels` array. \n",
    "\n",
    "To start training,  call the `model.fit` method—the model is \"fit\" to the training data:"
   ]
  },
  {
   "cell_type": "code",
   "execution_count": 9,
   "metadata": {
    "colab": {
     "base_uri": "https://localhost:8080/"
    },
    "id": "EfYW1kCU7EG0",
    "outputId": "d303b1ce-67e6-41da-8f53-be594a525551"
   },
   "outputs": [
    {
     "name": "stdout",
     "output_type": "stream",
     "text": [
      "Epoch 1/5\n",
      "2187/2187 [==============================] - 45s 7ms/step - loss: 0.2028 - accuracy: 0.9387\n",
      "Epoch 2/5\n",
      "2187/2187 [==============================] - 14s 7ms/step - loss: 0.0858 - accuracy: 0.9745\n",
      "Epoch 3/5\n",
      "2187/2187 [==============================] - 15s 7ms/step - loss: 0.0641 - accuracy: 0.9803\n",
      "Epoch 4/5\n",
      "2187/2187 [==============================] - 15s 7ms/step - loss: 0.0536 - accuracy: 0.9836\n",
      "Epoch 5/5\n",
      "1964/2187 [=========================>....] - ETA: 1s - loss: 0.0423 - accuracy: 0.9866WARNING:tensorflow:Your input ran out of data; interrupting training. Make sure that your dataset or generator can generate at least `steps_per_epoch * epochs` batches (in this case, 10935 batches). You may need to use the repeat() function when building your dataset.\n",
      "2187/2187 [==============================] - 13s 6ms/step - loss: 0.0422 - accuracy: 0.9866\n"
     ]
    }
   ],
   "source": [
    "import math\n",
    "history = model.fit(train_images, train_labels, epochs=5, steps_per_epoch = math.floor(60000/32))"
   ]
  },
  {
   "cell_type": "markdown",
   "metadata": {
    "id": "cPRJH97K7EG0"
   },
   "source": [
    "As the model trains, the loss and accuracy metrics are displayed. This model reaches an accuracy of about 98.68% on the training data."
   ]
  },
  {
   "cell_type": "markdown",
   "metadata": {
    "id": "16cbD8No7EG0"
   },
   "source": [
    "### Evaluate accuracy\n",
    "\n",
    "Next, compare how the model performs on the test dataset:"
   ]
  },
  {
   "cell_type": "code",
   "execution_count": 10,
   "metadata": {
    "colab": {
     "base_uri": "https://localhost:8080/"
    },
    "id": "IXfZq_eN7EG0",
    "outputId": "fe7a4e72-51da-42b4-e755-fa2c20aa06e4"
   },
   "outputs": [
    {
     "name": "stdout",
     "output_type": "stream",
     "text": [
      "(10000, 28, 28, 1)\n",
      "313/313 [==============================] - 2s 4ms/step - loss: 0.0275 - accuracy: 0.9913\n",
      "Test accuracy: 0.9912999868392944\n"
     ]
    }
   ],
   "source": [
    "print(test_images.shape)\n",
    "test_loss, test_acc = model.evaluate(test_images, test_labels)\n",
    "\n",
    "print('Test accuracy:', test_acc)"
   ]
  },
  {
   "cell_type": "markdown",
   "metadata": {
    "id": "kvY7TJo07EG0"
   },
   "source": [
    "Often times, the accuracy on the test dataset is a little less than the accuracy on the training dataset. This gap between training accuracy and test accuracy is an example of *overfitting*. In our case, the accuracy is better at 99.19%! This is, in part, due to successful regularization accomplished with the Dropout layers."
   ]
  },
  {
   "cell_type": "markdown",
   "metadata": {
    "id": "2QYDvXtTQrv6"
   },
   "source": [
    "### Make predictions to test dataset\n",
    "\n",
    "With the model trained, we used it to predict some of the test images - not used in training."
   ]
  },
  {
   "cell_type": "code",
   "execution_count": 43,
   "metadata": {
    "colab": {
     "base_uri": "https://localhost:8080/",
     "height": 141
    },
    "id": "cTCtH7kbMYvX",
    "outputId": "4b148d99-791e-45ec-f873-6def12706fa2"
   },
   "outputs": [
    {
     "data": {
      "image/png": "[encoded data removed]",
      "text/plain": [
       "<Figure size 720x144 with 5 Axes>"
      ]
     },
     "metadata": {},
     "output_type": "display_data"
    }
   ],
   "source": [
    "# predict the class\n",
    "preds = model.predict(test_images)\n",
    "guess = np.argmax(preds, 1)\n",
    "perc = np.rint(preds * 100).astype(int)\n",
    "\n",
    "# five random numbers\n",
    "from numpy.random import randint\n",
    "values = randint(0, 10000, 5)\n",
    "\n",
    "# plot\n",
    "plt.figure(figsize=(10,2))\n",
    "for i in range(5):\n",
    "    plt.subplot(1,5,i+1)\n",
    "    plt.xticks([])\n",
    "    plt.yticks([])\n",
    "    plt.grid(False)\n",
    "    plt.imshow(test_images[values[i]].reshape(28, 28), cmap=plt.cm.binary)\n",
    "    plt.xlabel(guess[values[i]])"
   ]
  },
  {
   "cell_type": "markdown",
   "metadata": {
    "id": "1UeXJ9K_7EG1"
   },
   "source": [
    "### Make predictions to MNIST dream dataset\n",
    "\n",
    "With the model trained, we can use it to make predictions about some images. Let's step outside the MNIST dataset for that and go with the beautiful high-resolution images generated by a mixture of CPPN, GAN, VAE. See [great blog post by hardmaru](http://blog.otoro.net/2016/04/01/generating-large-images-from-latent-vectors/) for the source data and a description of how these morphed animations are generated:\n",
    "\n",
    "![MNIST dream](https://i.imgur.com/OrUJs9V.gif)"
   ]
  },
  {
   "cell_type": "code",
   "execution_count": null,
   "metadata": {
    "colab": {
     "base_uri": "https://localhost:8080/",
     "height": 377
    },
    "id": "_9BV1_Ox7EG1",
    "outputId": "73a28611-c268-447d-8a9f-73a9606fb5d5"
   },
   "outputs": [
    {
     "data": {
      "image/png": "[encoded data removed]",
      "text/plain": [
       "<IPython.core.display.Image object>"
      ]
     },
     "metadata": {},
     "output_type": "display_data"
    }
   ],
   "source": [
    "mnist_dream_path = 'images/mnist_dream.mp4'\n",
    "mnist_prediction_path = 'images/mnist_dream_predicted.mp4'\n",
    "\n",
    "# download the video if running in Colab\n",
    "if not os.path.isfile(mnist_dream_path): \n",
    "    print('downloading the sample video...')\n",
    "    vid_url = this_tutorial_url + '/' + mnist_dream_path\n",
    "    \n",
    "    mnist_dream_path = urllib.request.urlretrieve(vid_url)[0]\n",
    "                                                                                                  \n",
    "def cv2_imshow(img):\n",
    "    ret = cv2.imencode('.png', img)[1].tobytes() \n",
    "    img_ip = IPython.display.Image(data=ret)\n",
    "    IPython.display.display(img_ip)\n",
    "\n",
    "cap = cv2.VideoCapture(mnist_dream_path) \n",
    "vw = None\n",
    "frame = -1 # counter for debugging (mostly), 0-indexed\n",
    "\n",
    "# go through all the frames and run our classifier on the high res MNIST images as they morph from number to number\n",
    "while True: # should 481 frames\n",
    "    frame += 1\n",
    "    ret, img = cap.read()\n",
    "    if not ret: break\n",
    "               \n",
    "    assert img.shape[0] == img.shape[1] # should be a square\n",
    "    if img.shape[0] != 720:\n",
    "        img = cv2.resize(img, (720, 720))\n",
    "       \n",
    "    #preprocess the image for prediction\n",
    "    img_proc = cv2.cvtColor(img, cv2.COLOR_BGR2GRAY)\n",
    "    img_proc = cv2.resize(img_proc, (28, 28))\n",
    "    img_proc = preprocess_images(img_proc)\n",
    "    img_proc = 1 - img_proc # inverse since training dataset is white text with black background\n",
    "\n",
    "    net_in = np.expand_dims(img_proc, axis=0) # expand dimension to specify batch size of 1\n",
    "    net_in = np.expand_dims(net_in, axis=3) # expand dimension to specify number of channels\n",
    "    \n",
    "    preds = model.predict(net_in)[0]\n",
    "    guess = np.argmax(preds)\n",
    "    perc = np.rint(preds * 100).astype(int)\n",
    "    \n",
    "    img = 255 - img\n",
    "    pad_color = 0\n",
    "    img = np.pad(img, ((0,0), (0,1280-720), (0,0)), mode='constant', constant_values=(pad_color))  \n",
    "    \n",
    "    line_type = cv2.LINE_AA\n",
    "    font_face = cv2.FONT_HERSHEY_SIMPLEX\n",
    "    font_scale = 1.3        \n",
    "    thickness = 2\n",
    "    x, y = 740, 60\n",
    "    color = (255, 255, 255)\n",
    "    \n",
    "    text = \"Neural Network Output:\"\n",
    "    cv2.putText(img, text=text, org=(x, y), fontScale=font_scale, fontFace=font_face, thickness=thickness,\n",
    "                    color=color, lineType=line_type)\n",
    "    \n",
    "    text = \"Input:\"\n",
    "    cv2.putText(img, text=text, org=(30, y), fontScale=font_scale, fontFace=font_face, thickness=thickness,\n",
    "                    color=color, lineType=line_type)   \n",
    "        \n",
    "    y = 130\n",
    "    for i, p in enumerate(perc):\n",
    "        if i == guess: color = (255, 218, 158)\n",
    "        else: color = (100, 100, 100)\n",
    "            \n",
    "        rect_width = 0\n",
    "        if p > 0: rect_width = int(p * 3.3)\n",
    "        \n",
    "        rect_start = 180\n",
    "        cv2.rectangle(img, (x+rect_start, y-5), (x+rect_start+rect_width, y-20), color, -1)\n",
    "\n",
    "        text = '{}: {:>3}%'.format(i, int(p))\n",
    "        cv2.putText(img, text=text, org=(x, y), fontScale=font_scale, fontFace=font_face, thickness=thickness,\n",
    "                    color=color, lineType=line_type)\n",
    "        y += 60\n",
    "    \n",
    "    # if you don't want to save the output as a video, set this to False\n",
    "    save_video = True\n",
    "    \n",
    "    if save_video:\n",
    "        if vw is None:\n",
    "            codec = cv2.VideoWriter_fourcc(*'DIVX')\n",
    "            vid_width_height = img.shape[1], img.shape[0]\n",
    "            vw = cv2.VideoWriter(mnist_prediction_path, codec, 30, vid_width_height)\n",
    "        # 15 fps above doesn't work robustly so we right frame twice at 30 fps\n",
    "        vw.write(img)\n",
    "        vw.write(img)\n",
    "    \n",
    "    # scale down image for display\n",
    "    img_disp = cv2.resize(img, (0,0), fx=0.5, fy=0.5)\n",
    "    cv2_imshow(img_disp)\n",
    "    IPython.display.clear_output(wait=True)\n",
    "        \n",
    "cap.release()\n",
    "if vw is not None:\n",
    "    vw.release()"
   ]
  },
  {
   "cell_type": "markdown",
   "metadata": {
    "id": "rOsZ-6oH7EG1"
   },
   "source": [
    "The above shows the prediction of the network by choosing the neuron with the highest output. While the output layer values add 1 to one, these do not reflect well-calibrated measures of \"uncertainty\". Often, the network is overly confident about the top choice that does not reflect a learned measure of probability. If everything ran correctly you should get an animation like this:\n",
    "\n",
    "![MNIST dream predictions](https://i.imgur.com/eMF9FOG.gif)"
   ]
  },
  {
   "cell_type": "markdown",
   "metadata": {
    "id": "PFvHv9Hn7EG1"
   },
   "source": [
    "## Acknowledgements\n",
    "\n",
    "The contents of this tutorial is based on and inspired by the work of [TensorFlow team](https://www.tensorflow.org) (see their [Colab notebooks](https://www.tensorflow.org/tutorials/)), our [MIT Human-Centered AI team](https://hcai.mit.edu), and individual pieces referenced in the [MIT Deep Learning](https://deeplearning.mit.edu) course slides."
   ]
  }
 ],
 "metadata": {
  "accelerator": "GPU",
  "colab": {
   "collapsed_sections": [],
   "name": "tutorial_deep_learning_basics_MITmod.ipynb",
   "provenance": [],
   "toc_visible": true
  },
  "kernelspec": {
   "display_name": "Python 3 (ipykernel)",
   "language": "python",
   "name": "python3"
  },
  "language_info": {
   "codemirror_mode": {
    "name": "ipython",
    "version": 3
   },
   "file_extension": ".py",
   "mimetype": "text/x-python",
   "name": "python",
   "nbconvert_exporter": "python",
   "pygments_lexer": "ipython3",
   "version": "3.11.4"
  }
 },
 "nbformat": 4,
 "nbformat_minor": 4
}
